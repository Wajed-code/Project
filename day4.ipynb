{
 "cells": [
  {
   "cell_type": "markdown",
   "id": "743e13ff-043a-499d-9997-0ff523eb8a85",
   "metadata": {},
   "source": [
    " # Day 1"
   ]
  },
  {
   "cell_type": "markdown",
   "id": "d87e0415-1692-4b5a-90f1-15c9c6f73957",
   "metadata": {},
   "source": [
    "- 1. Development Tools:\n",
    " • Used Jupyter Notebook and VS Code for Python development.\n",
    " - 2. Variables and Data Types:\n",
    " • Main data types: int, float, str, and bool.\n",
    "-  3. Operators:\n",
    " • Learned arithmetic (+, -, *, /), comparison (==, >, <), and logical (and, or) operators.\n",
    " - 4. Control Flow:\n",
    " • Used if, elif, and else for conditional logic.\n",
    " - 5. Loops:\n",
    " • Repeated tasks using for and while loops.\n",
    " - 6. Functions:\n",
    " • Defined reusable code blocks with def.\n",
    " • Passed arguments and used return to get outputs.\n",
    "- 7. Numpy Basics:\n",
    " • Worked with arrays for mathematical operations (e.g., sum, mean)."
   ]
  },
  {
   "cell_type": "code",
   "execution_count": 1,
   "id": "0dc01d6b-696f-4d06-aaa8-8f7227685b88",
   "metadata": {},
   "outputs": [
    {
     "data": {
      "text/plain": [
       "int"
      ]
     },
     "execution_count": 1,
     "metadata": {},
     "output_type": "execute_result"
    }
   ],
   "source": [
    "x=5\n",
    "type(x)"
   ]
  },
  {
   "cell_type": "code",
   "execution_count": 3,
   "id": "e2afa7d8-9232-4d63-9976-f3908dfe5a28",
   "metadata": {},
   "outputs": [
    {
     "data": {
      "text/plain": [
       "float"
      ]
     },
     "execution_count": 3,
     "metadata": {},
     "output_type": "execute_result"
    }
   ],
   "source": [
    "y=3.1\n",
    "type(y)"
   ]
  },
  {
   "cell_type": "code",
   "execution_count": 5,
   "id": "eb16fcec-dd2c-4091-8e3e-c8e0b77451ac",
   "metadata": {},
   "outputs": [
    {
     "data": {
      "text/plain": [
       "str"
      ]
     },
     "execution_count": 5,
     "metadata": {},
     "output_type": "execute_result"
    }
   ],
   "source": [
    "name=\"ragd\"\n",
    "type(name)"
   ]
  },
  {
   "cell_type": "code",
   "execution_count": 14,
   "id": "798610fc-318d-4406-a3aa-0233c6d4e28a",
   "metadata": {},
   "outputs": [
    {
     "data": {
      "text/plain": [
       "bool"
      ]
     },
     "execution_count": 14,
     "metadata": {},
     "output_type": "execute_result"
    }
   ],
   "source": [
    "is_active=True\n",
    "type(is_active)\n"
   ]
  },
  {
   "cell_type": "markdown",
   "id": "bfd15dc5-c293-4880-94a2-7eab419b7d42",
   "metadata": {},
   "source": [
    "- if"
   ]
  },
  {
   "cell_type": "code",
   "execution_count": 18,
   "id": "b023177e-0814-4b7f-8f8b-92004cf7247b",
   "metadata": {},
   "outputs": [
    {
     "name": "stdout",
     "output_type": "stream",
     "text": [
      "x is greater than 5\n"
     ]
    }
   ],
   "source": [
    "x=9\n",
    "if x>5:\n",
    "    print(\"x is greater than 5\")\n",
    "    "
   ]
  },
  {
   "cell_type": "markdown",
   "id": "aa29dcd9-eede-4eda-8d25-cd799fe898e8",
   "metadata": {},
   "source": [
    " - if-elif-else"
   ]
  },
  {
   "cell_type": "code",
   "execution_count": 20,
   "id": "24da4914-b3d7-4f01-8ab2-c9c49ef781f1",
   "metadata": {},
   "outputs": [
    {
     "name": "stdout",
     "output_type": "stream",
     "text": [
      "x is less than 10\n"
     ]
    }
   ],
   "source": [
    "x=9\n",
    "if x < 5:\n",
    "    print(\"x is less than 5\")\n",
    "elif x >10:\n",
    "    print (\"x is greater than 10\")\n",
    "else :\n",
    "    print(\"x is less than 10\")\n",
    "    \n",
    "          "
   ]
  },
  {
   "cell_type": "markdown",
   "id": "0582c615-52b7-4e79-b3a4-102342f13341",
   "metadata": {},
   "source": [
    " - for loop example "
   ]
  },
  {
   "cell_type": "code",
   "execution_count": 2,
   "id": "75c02353-b68f-48cc-bc20-470ad00818d4",
   "metadata": {},
   "outputs": [
    {
     "name": "stdout",
     "output_type": "stream",
     "text": [
      "0\n",
      "1\n",
      "2\n",
      "3\n",
      "4\n",
      "5\n"
     ]
    }
   ],
   "source": [
    "for i in range (6):\n",
    "    print(i)\n"
   ]
  },
  {
   "cell_type": "markdown",
   "id": "6cdf9d2c-e63e-43a3-9e7d-31a858052618",
   "metadata": {},
   "source": [
    "- whil loop example "
   ]
  },
  {
   "cell_type": "code",
   "execution_count": 4,
   "id": "7beac5c3-6f0a-4d64-8f65-b3077b4d334c",
   "metadata": {},
   "outputs": [
    {
     "name": "stdout",
     "output_type": "stream",
     "text": [
      "1\n",
      "2\n",
      "3\n",
      "4\n"
     ]
    }
   ],
   "source": [
    "count=1\n",
    "while count <5:\n",
    "    print( count)\n",
    "    count +=1"
   ]
  },
  {
   "cell_type": "markdown",
   "id": "56e6ac2f-b36f-49b2-8b05-9caabfbcb665",
   "metadata": {},
   "source": [
    "- function syntax "
   ]
  },
  {
   "cell_type": "code",
   "execution_count": 12,
   "id": "c5bda947-ffcc-4265-8443-7390e7ab1f01",
   "metadata": {},
   "outputs": [
    {
     "name": "stdout",
     "output_type": "stream",
     "text": [
      "first name,wajed,last namealanazi!\n"
     ]
    }
   ],
   "source": [
    "def function(wajed,alanazi):\n",
    "    print(f\"first name,{wajed},last name{alanazi}!\")\n",
    "function(\"wajed\",\"alanazi\")"
   ]
  },
  {
   "cell_type": "markdown",
   "id": "c832a082-6e5b-4eea-b71d-3565eeb6ab22",
   "metadata": {},
   "source": [
    "- Create a program check if a Number is Positive, Negative, or Zero"
   ]
  },
  {
   "cell_type": "code",
   "execution_count": null,
   "id": "4c7b61a3-7377-4c08-b40e-2416ee0d7c26",
   "metadata": {},
   "outputs": [],
   "source": [
    " num= int (input (\"enter num :\"))\n",
    "if num >0:\n",
    "    print(f\"pos\")\n",
    "elif num <0:\n",
    "    print(f\"neg\")\n",
    " \n",
    "\n",
    "    \n",
    "    \n"
   ]
  },
  {
   "cell_type": "markdown",
   "id": "9a3746c8-8178-41ec-bdf0-b77d0b1baf25",
   "metadata": {},
   "source": [
    "- Create a simple calculator program that takes user input and performs basic operations like addition, subtraction, multiplication, and division."
   ]
  },
  {
   "cell_type": "code",
   "execution_count": 34,
   "id": "85a220ba-7300-48ad-a693-317c194c463f",
   "metadata": {},
   "outputs": [
    {
     "name": "stdin",
     "output_type": "stream",
     "text": [
      "enter num 1: 20\n",
      "enter num 2: 30\n",
      "enter operator: -\n"
     ]
    }
   ],
   "source": [
    "num1= float(input (\"enter num 1:\"))\n",
    "num2= float(input (\"enter num 2:\"))\n",
    "operator= input (\"enter operator:\")\n",
    "num3 =0\n",
    "if operator==\"+\":\n",
    "    num3=num1+num2\n",
    "elif operator ==\"-\":\n",
    "    num3=num1-num2\n",
    "elif operator ==\"*\":\n",
    "    num3=num1*num2\n",
    "elif operator ==\"/\":\n",
    "    if num2 !=0:\n",
    "        num3=num1*num2\n",
    "    else:\n",
    "        print(\"لا تقبل القسمه على الصفر\")\n",
    "        print(num3)\n"
   ]
  },
  {
   "cell_type": "markdown",
   "id": "af00b0da-8ac6-4ce4-a04f-c84bb0a7ea8f",
   "metadata": {},
   "source": [
    "+ Create a program that prints multiplication tables (e.g., for number 5, print 5x1, 5x2, etc.)"
   ]
  },
  {
   "cell_type": "code",
   "execution_count": 42,
   "id": "5648dd7c-c774-47ce-9a10-f10cc5f69ecd",
   "metadata": {},
   "outputs": [
    {
     "name": "stdin",
     "output_type": "stream",
     "text": [
      "enter a number: 4\n"
     ]
    },
    {
     "name": "stdout",
     "output_type": "stream",
     "text": [
      "4*1=  4\n",
      "4*2=  8\n",
      "4*3=  12\n",
      "4*4=  16\n",
      "4*5=  20\n",
      "4*6=  24\n",
      "4*7=  28\n",
      "4*8=  32\n",
      "4*9=  36\n",
      "4*10=  40\n"
     ]
    }
   ],
   "source": [
    "num=int(input(\"enter a number:\"))\n",
    "for i in range(1,11):\n",
    "    print(f\"{num}*{i}=  \"+str(num*i))\n",
    "    "
   ]
  },
  {
   "cell_type": "markdown",
   "id": "fdde015e-3adc-4b88-94b2-68a279ccf007",
   "metadata": {},
   "source": [
    "- Create a program that takes an integer input and prints if the number is even or odd."
   ]
  },
  {
   "cell_type": "code",
   "execution_count": null,
   "id": "7471bbbb-23f5-49a5-90a4-91c263e636d7",
   "metadata": {},
   "outputs": [],
   "source": [
    "num= int(input(\"enter an integer:\"))\n",
    "if num %2==0:\n",
    "    print(\"even\")\n",
    "else:\n",
    "    print(\"odd\")\n",
    "    \n",
    "    "
   ]
  },
  {
   "cell_type": "markdown",
   "id": "2c4b3565-6a16-495a-9d25-40f256bf541f",
   "metadata": {},
   "source": [
    "# Day2"
   ]
  },
  {
   "cell_type": "markdown",
   "id": "e2036cc5-f19b-4ca0-8fe6-2fa982f2a9a2",
   "metadata": {},
   "source": [
    "- 1. Lists:\n",
    " • Ordered collection of items (numbers, strings, etc.).\n",
    " • Operations: add, remove, modify, and slice.\n",
    "- 2. Dictionaries:\n",
    " • Key-value pairs.\n",
    " • Operations: add, modify, delete, and access values using keys.\n",
    "- 3. Tuples:\n",
    " • Ordered and immutable collection.\n",
    " • Operations: access elements and slicing.\n",
    "- 4. Sets:\n",
    " • Unordered collection of unique items.\n",
    " • Operations: add, remove, union, and intersection.\n",
    "- 5. Additional Activities:\n",
    " • Sum numbers, find the largest and smallest, and count occurrences in lists."
   ]
  },
  {
   "cell_type": "code",
   "execution_count": 17,
   "id": "90deb7ef-89dd-42e7-846d-d56157593e7a",
   "metadata": {},
   "outputs": [
    {
     "data": {
      "text/plain": [
       "[1, 2, 3, 4, 5, 6, 7, 8, 9, 10]"
      ]
     },
     "execution_count": 17,
     "metadata": {},
     "output_type": "execute_result"
    }
   ],
   "source": [
    "my_list=list(range(1,11))\n",
    "my_list"
   ]
  },
  {
   "cell_type": "markdown",
   "id": "eaaf15ba-c639-4c2b-97e5-6d7e0afc54e8",
   "metadata": {},
   "source": [
    "- adding an item"
   ]
  },
  {
   "cell_type": "code",
   "execution_count": null,
   "id": "dfde7a27-6a78-4ebb-8d0f-d4da58972540",
   "metadata": {},
   "outputs": [],
   "source": [
    "my_list.append(15)\n"
   ]
  },
  {
   "cell_type": "markdown",
   "id": "0001c8d2-0171-476f-b5ce-1d653c8ad5b3",
   "metadata": {},
   "source": [
    "- modifying an item"
   ]
  },
  {
   "cell_type": "code",
   "execution_count": 21,
   "id": "27b1ae57-549a-485b-93e0-ae8b84075ab1",
   "metadata": {},
   "outputs": [],
   "source": [
    "my_list[1]=20\n"
   ]
  },
  {
   "cell_type": "code",
   "execution_count": 25,
   "id": "27741225-6931-4f0f-bf04-19e8cc2acd37",
   "metadata": {},
   "outputs": [
    {
     "name": "stdout",
     "output_type": "stream",
     "text": [
      "[3, 4, 5, 6, 7, 8, 9, 10, 15]\n"
     ]
    }
   ],
   "source": [
    "print(my_list[2:])"
   ]
  },
  {
   "cell_type": "markdown",
   "id": "fe667eb1-cbde-4fcb-b8f7-721a2364f5cb",
   "metadata": {},
   "source": [
    "- creating a dictionary\n"
   ]
  },
  {
   "cell_type": "code",
   "execution_count": 27,
   "id": "7e892f37-35ed-4778-8394-6eee70da9ea6",
   "metadata": {},
   "outputs": [
    {
     "data": {
      "text/plain": [
       "{'name': 'alice', 'age': 25}"
      ]
     },
     "execution_count": 27,
     "metadata": {},
     "output_type": "execute_result"
    }
   ],
   "source": [
    "my_dict={\"name\":\"alice\",\"age\":25}\n",
    "my_dict\n"
   ]
  },
  {
   "cell_type": "code",
   "execution_count": 29,
   "id": "26698438-8723-463c-80f7-e99d5127401d",
   "metadata": {},
   "outputs": [
    {
     "data": {
      "text/plain": [
       "{'name': 'alice', 'age': 25}"
      ]
     },
     "execution_count": 29,
     "metadata": {},
     "output_type": "execute_result"
    }
   ],
   "source": [
    "name=my_dict[\"name\"]\n",
    "my_dict"
   ]
  },
  {
   "cell_type": "code",
   "execution_count": 31,
   "id": "f43b66c6-37c4-4fba-a5dd-1aa774769267",
   "metadata": {},
   "outputs": [
    {
     "data": {
      "text/plain": [
       "{'name': 'alice', 'age': 25, 'city': 'new york'}"
      ]
     },
     "execution_count": 31,
     "metadata": {},
     "output_type": "execute_result"
    }
   ],
   "source": [
    " my_dict[\"city\"]=\"new york\"\n",
    "my_dict"
   ]
  },
  {
   "cell_type": "code",
   "execution_count": 33,
   "id": "64bea518-c07a-4add-9420-2db5b9c6416e",
   "metadata": {},
   "outputs": [
    {
     "data": {
      "text/plain": [
       "{'name': 'alice', 'age': 30, 'city': 'new york'}"
      ]
     },
     "execution_count": 33,
     "metadata": {},
     "output_type": "execute_result"
    }
   ],
   "source": [
    "my_dict[\"age\"]=30\n",
    "my_dict\n"
   ]
  },
  {
   "cell_type": "code",
   "execution_count": 37,
   "id": "f7a4b717-d48a-49df-b8ca-a3700fcfc29d",
   "metadata": {},
   "outputs": [
    {
     "data": {
      "text/plain": [
       "{'age': 30, 'city': 'new york'}"
      ]
     },
     "execution_count": 37,
     "metadata": {},
     "output_type": "execute_result"
    }
   ],
   "source": [
    "del my_dict[\"name\"]\n",
    "my_dict"
   ]
  },
  {
   "cell_type": "code",
   "execution_count": 43,
   "id": "886bb8fe-d8b3-4eb0-a38e-96c08f35996c",
   "metadata": {},
   "outputs": [
    {
     "data": {
      "text/plain": [
       "dict_keys(['age', 'city'])"
      ]
     },
     "execution_count": 43,
     "metadata": {},
     "output_type": "execute_result"
    }
   ],
   "source": [
    "my_dict.keys()"
   ]
  },
  {
   "cell_type": "code",
   "execution_count": 45,
   "id": "a49f52d1-e284-4076-9217-8ccd7a77b46d",
   "metadata": {},
   "outputs": [
    {
     "data": {
      "text/plain": [
       "dict_items([('age', 30), ('city', 'new york')])"
      ]
     },
     "execution_count": 45,
     "metadata": {},
     "output_type": "execute_result"
    }
   ],
   "source": [
    "my_dict.items()\n"
   ]
  },
  {
   "cell_type": "code",
   "execution_count": 51,
   "id": "7915a45d-dc8c-4ed9-8be8-6d23e69c3375",
   "metadata": {},
   "outputs": [
    {
     "data": {
      "text/plain": [
       "dict_values([30, 'new york'])"
      ]
     },
     "execution_count": 51,
     "metadata": {},
     "output_type": "execute_result"
    }
   ],
   "source": [
    "my_dict.values()"
   ]
  },
  {
   "cell_type": "markdown",
   "id": "477cfebb-ec09-477c-872c-89a6479adc14",
   "metadata": {},
   "source": [
    "- Create adictionary with keys name,age,and city."
   ]
  },
  {
   "cell_type": "code",
   "execution_count": 53,
   "id": "85966dbc-0451-4b21-807d-90344748410d",
   "metadata": {},
   "outputs": [
    {
     "data": {
      "text/plain": [
       "{'name': 'wajed', 'age': '22', 'city': 'tabuk'}"
      ]
     },
     "execution_count": 53,
     "metadata": {},
     "output_type": "execute_result"
    }
   ],
   "source": [
    "my_waj={\"name\":\"wajed\",\"age\":\"22\",\"city\":\"tabuk\"}\n",
    "my_waj"
   ]
  },
  {
   "cell_type": "markdown",
   "id": "e2182b00-453a-4a7f-af3e-89f09dbfbdc8",
   "metadata": {},
   "source": [
    "- Change the value for age to 25"
   ]
  },
  {
   "cell_type": "code",
   "execution_count": 55,
   "id": "165e188b-7283-415a-8b26-e04a49b2affd",
   "metadata": {},
   "outputs": [
    {
     "data": {
      "text/plain": [
       "{'name': 'wajed', 'age': 25, 'city': 'tabuk'}"
      ]
     },
     "execution_count": 55,
     "metadata": {},
     "output_type": "execute_result"
    }
   ],
   "source": [
    "my_waj[\"age\"]=25\n",
    "my_waj"
   ]
  },
  {
   "cell_type": "markdown",
   "id": "ec0c271b-ec19-42ca-a03c-f2083010e048",
   "metadata": {},
   "source": [
    "- Add a key-value pair for email."
   ]
  },
  {
   "cell_type": "code",
   "execution_count": 57,
   "id": "2b00dac9-dfc4-46d6-a0e3-47546467509d",
   "metadata": {},
   "outputs": [
    {
     "data": {
      "text/plain": [
       "{'name': 'wajed', 'age': 25, 'city': 'tabuk', 'email': 'waj@ed'}"
      ]
     },
     "execution_count": 57,
     "metadata": {},
     "output_type": "execute_result"
    }
   ],
   "source": [
    "my_waj[\"email\"]=\"waj@ed\"\n",
    "my_waj\n",
    "\n"
   ]
  },
  {
   "cell_type": "markdown",
   "id": "d3fe423c-4a8b-44aa-84a1-19c3f80d3e96",
   "metadata": {},
   "source": [
    "- Remove the city key"
   ]
  },
  {
   "cell_type": "code",
   "execution_count": 59,
   "id": "8fcb98a0-d95c-47fc-bbb8-2ba64111a86c",
   "metadata": {},
   "outputs": [
    {
     "data": {
      "text/plain": [
       "{'name': 'wajed', 'age': 25, 'email': 'waj@ed'}"
      ]
     },
     "execution_count": 59,
     "metadata": {},
     "output_type": "execute_result"
    }
   ],
   "source": [
    "del my_waj[\"city\"]\n",
    "my_waj"
   ]
  },
  {
   "cell_type": "code",
   "execution_count": 61,
   "id": "a1e4fc07-956f-4c07-b0db-0d4624cbef27",
   "metadata": {},
   "outputs": [
    {
     "data": {
      "text/plain": [
       "(1, 2, 3, 4, 5)"
      ]
     },
     "execution_count": 61,
     "metadata": {},
     "output_type": "execute_result"
    }
   ],
   "source": [
    "my_tapel=(1,2,3,4,5)\n",
    "my_tapel"
   ]
  },
  {
   "cell_type": "code",
   "execution_count": 63,
   "id": "8192222d-3fe6-496d-b8f3-d7e84da2c44f",
   "metadata": {},
   "outputs": [
    {
     "data": {
      "text/plain": [
       "2"
      ]
     },
     "execution_count": 63,
     "metadata": {},
     "output_type": "execute_result"
    }
   ],
   "source": [
    "my_tapel[1]"
   ]
  },
  {
   "cell_type": "code",
   "execution_count": 70,
   "id": "9f6e24aa-1934-43c4-82e5-44a339885db9",
   "metadata": {},
   "outputs": [],
   "source": [
    "my_set={1,2,3,4}\n"
   ]
  },
  {
   "cell_type": "code",
   "execution_count": 72,
   "id": "8565bd02-d288-4c59-b977-a9e95db706a5",
   "metadata": {},
   "outputs": [
    {
     "data": {
      "text/plain": [
       "{1, 2, 3, 4}"
      ]
     },
     "execution_count": 72,
     "metadata": {},
     "output_type": "execute_result"
    }
   ],
   "source": [
    "my_set"
   ]
  },
  {
   "cell_type": "code",
   "execution_count": 74,
   "id": "849cf04d-f93f-4502-9ae9-8e8b94aaf7ac",
   "metadata": {},
   "outputs": [],
   "source": [
    "my_set.update([8,9])"
   ]
  },
  {
   "cell_type": "code",
   "execution_count": 78,
   "id": "fc5503b1-0c91-4b1d-a289-bbf6dc7b76f1",
   "metadata": {},
   "outputs": [
    {
     "data": {
      "text/plain": [
       "{1, 2, 3, 4, 8, 9}"
      ]
     },
     "execution_count": 78,
     "metadata": {},
     "output_type": "execute_result"
    }
   ],
   "source": [
    "my_set"
   ]
  },
  {
   "cell_type": "code",
   "execution_count": 82,
   "id": "eb227ff0-3a8e-4fc6-9380-4486d1825c3f",
   "metadata": {},
   "outputs": [
    {
     "data": {
      "text/plain": [
       "{1, 2, 3, 4, 5}"
      ]
     },
     "execution_count": 82,
     "metadata": {},
     "output_type": "execute_result"
    }
   ],
   "source": [
    "set1={1,2,3}\n",
    "set2={3,4,5}\n",
    "set1|set2"
   ]
  },
  {
   "cell_type": "code",
   "execution_count": 84,
   "id": "c1b306af-6b1d-41a7-8a6e-2b9566df54cd",
   "metadata": {},
   "outputs": [
    {
     "data": {
      "text/plain": [
       "{3}"
      ]
     },
     "execution_count": 84,
     "metadata": {},
     "output_type": "execute_result"
    }
   ],
   "source": [
    "set1&set2"
   ]
  },
  {
   "cell_type": "code",
   "execution_count": 86,
   "id": "74c71c51-f7c1-48b7-80ab-4512c9f9eb81",
   "metadata": {},
   "outputs": [
    {
     "data": {
      "text/plain": [
       "{1, 2}"
      ]
     },
     "execution_count": 86,
     "metadata": {},
     "output_type": "execute_result"
    }
   ],
   "source": [
    "set1-set2"
   ]
  },
  {
   "cell_type": "code",
   "execution_count": 90,
   "id": "4d0b4402-1337-4c47-bfcc-f55f3c1c0759",
   "metadata": {},
   "outputs": [
    {
     "data": {
      "text/plain": [
       "27"
      ]
     },
     "execution_count": 90,
     "metadata": {},
     "output_type": "execute_result"
    }
   ],
   "source": [
    "sum(my_set)"
   ]
  },
  {
   "cell_type": "code",
   "execution_count": null,
   "id": "f52703f5-1dca-4d28-9e4d-294f9856d857",
   "metadata": {},
   "outputs": [],
   "source": [
    "max(my_set)"
   ]
  },
  {
   "cell_type": "code",
   "execution_count": 93,
   "id": "014c1797-b9bb-4d00-92cd-836a713924e3",
   "metadata": {},
   "outputs": [
    {
     "data": {
      "text/plain": [
       "1"
      ]
     },
     "execution_count": 93,
     "metadata": {},
     "output_type": "execute_result"
    }
   ],
   "source": [
    "min(my_set)"
   ]
  },
  {
   "cell_type": "code",
   "execution_count": 175,
   "id": "8b4bd007-f076-4771-b4af-13e7edf55c42",
   "metadata": {},
   "outputs": [
    {
     "data": {
      "text/plain": [
       "34"
      ]
     },
     "execution_count": 175,
     "metadata": {},
     "output_type": "execute_result"
    }
   ],
   "source": [
    "number=[7,8,9,10]\n",
    "sum(number)"
   ]
  },
  {
   "cell_type": "code",
   "execution_count": 177,
   "id": "9395fc87-fb6f-4144-965e-b79e0856d5b0",
   "metadata": {},
   "outputs": [],
   "source": [
    "sum_number=0"
   ]
  },
  {
   "cell_type": "markdown",
   "id": "d1589d0e-da85-49dd-b9f1-ba2d8abf9c02",
   "metadata": {},
   "source": [
    "- Create a simple program to sum of numbers in a list "
   ]
  },
  {
   "cell_type": "code",
   "execution_count": null,
   "id": "c0c8672d-d63d-4864-ab5e-057c9a7b1ea1",
   "metadata": {},
   "outputs": [],
   "source": [
    "for i in number:\n",
    " sum_number+= i\n",
    "print(\"sum of number:\",sum_number)"
   ]
  },
  {
   "cell_type": "markdown",
   "id": "f43cc09b-3155-43ff-8109-3cbcf4a3717c",
   "metadata": {},
   "source": [
    "- Create a simple program to find maximum and minimum number "
   ]
  },
  {
   "cell_type": "code",
   "execution_count": 165,
   "id": "72396c40-8694-4e6d-abe2-8bb3b7ff31d2",
   "metadata": {},
   "outputs": [
    {
     "data": {
      "text/plain": [
       "7"
      ]
     },
     "execution_count": 165,
     "metadata": {},
     "output_type": "execute_result"
    }
   ],
   "source": [
    "min(number)\n"
   ]
  },
  {
   "cell_type": "code",
   "execution_count": 141,
   "id": "025a5982-1879-4283-89f9-e72e1577e5e1",
   "metadata": {},
   "outputs": [
    {
     "data": {
      "text/plain": [
       "10"
      ]
     },
     "execution_count": 141,
     "metadata": {},
     "output_type": "execute_result"
    }
   ],
   "source": [
    "max(number)"
   ]
  },
  {
   "cell_type": "markdown",
   "id": "66ec4a8f-5df9-4c8d-92db-355cfb783e4f",
   "metadata": {},
   "source": [
    "- Create a simple program to Count the occurrences of each number in the list"
   ]
  },
  {
   "cell_type": "code",
   "execution_count": 241,
   "id": "8684abac-e3e2-46b2-999b-90285cb0150a",
   "metadata": {},
   "outputs": [
    {
     "name": "stdout",
     "output_type": "stream",
     "text": [
      "4\n"
     ]
    }
   ],
   "source": [
    "list=[1,2,3,3,3,3,4]\n",
    "nt=list.count(3)\n",
    "print(nt)"
   ]
  },
  {
   "cell_type": "markdown",
   "id": "3217707a-1d45-473e-afdd-57ea6abe4ceb",
   "metadata": {},
   "source": [
    "- reate a simple program to print the even numbers in a list."
   ]
  },
  {
   "cell_type": "code",
   "execution_count": 243,
   "id": "894a760f-d5b3-4ae7-9785-b3197e5d5d0b",
   "metadata": {},
   "outputs": [
    {
     "name": "stdout",
     "output_type": "stream",
     "text": [
      "4\n",
      "6\n"
     ]
    }
   ],
   "source": [
    "list=[4,5,6,7]\n",
    "for i in range(len(list)):\n",
    "    if list[i]%2==0:\n",
    "        print(list[i])"
   ]
  },
  {
   "cell_type": "markdown",
   "id": "3e2689de-ba4f-421a-bddd-ee1a17b2027a",
   "metadata": {},
   "source": [
    "# Day 3"
   ]
  },
  {
   "cell_type": "markdown",
   "id": "aa3d17f6-66c2-43ae-ab4d-1a893665a10e",
   "metadata": {},
   "source": [
    "- 1. File Handling:\n",
    " • Opening Files: Using open() in various modes (r, w, a, rb, wb).\n",
    " • Writing Files: Using write() and writelines().\n",
    " • Reading Files: Using read() and readlines().\n",
    " • Closing Files: Prefer using the with statement to automatically close files.\n",
    "- 2. Python Libraries for AI:\n",
    " • Pandas: For data cleaning and analysis using structures like DataFrame and Series.\n",
    " • Numpy: For mathematical operations and handling multi-dimensional arrays.\n",
    " • Matplotlib: For creating graphs, plots, and visualizing data."
   ]
  },
  {
   "cell_type": "markdown",
   "id": "62fe3dee-0b40-4a1c-a61b-90149462ccb8",
   "metadata": {},
   "source": [
    "- writing files"
   ]
  },
  {
   "cell_type": "code",
   "execution_count": 5,
   "id": "b6236f07-51e4-4c1d-9f0a-93019f795d01",
   "metadata": {},
   "outputs": [],
   "source": [
    "with open('output.text','w')as file:\n",
    "    file.write(\"hello,world\")"
   ]
  },
  {
   "cell_type": "code",
   "execution_count": 7,
   "id": "ca8e657c-f4d9-46ff-8f31-3969eaba99fe",
   "metadata": {},
   "outputs": [],
   "source": [
    "lines =[\"first line/,\"\"third line/n\"]\n",
    "with open ('output.txt','w')as file:\n",
    "    file.writelines(lines)"
   ]
  },
  {
   "cell_type": "code",
   "execution_count": 9,
   "id": "8cbc072d-e812-499e-b7f0-78d174801206",
   "metadata": {},
   "outputs": [],
   "source": [
    "with open('output.txt','a')as file:\n",
    "    file.write(\"appending a new line.\")"
   ]
  },
  {
   "cell_type": "markdown",
   "id": "f7f4597c-1711-4eee-a522-6d2342b30b42",
   "metadata": {},
   "source": [
    "- reading files"
   ]
  },
  {
   "cell_type": "code",
   "execution_count": 17,
   "id": "e5081568-becd-4730-943a-90de6077289c",
   "metadata": {},
   "outputs": [
    {
     "name": "stdout",
     "output_type": "stream",
     "text": [
      "appending a new line.\n"
     ]
    },
    {
     "data": {
      "text/plain": [
       "str"
      ]
     },
     "execution_count": 17,
     "metadata": {},
     "output_type": "execute_result"
    }
   ],
   "source": [
    "with open ('output.txt','r')as file:\n",
    "    content=file.read()\n",
    "    print(content)\n",
    "type(content)"
   ]
  },
  {
   "cell_type": "code",
   "execution_count": 19,
   "id": "5eaf6f8b-88aa-4e35-8914-ac34fc143ee2",
   "metadata": {},
   "outputs": [
    {
     "name": "stdout",
     "output_type": "stream",
     "text": [
      "appending a new line.\n"
     ]
    }
   ],
   "source": [
    "with open ('output.txt','r') as file:\n",
    "    lines = file.readlines()\n",
    "    for line in lines:\n",
    "        print (line.strip())\n",
    "        type(lines)"
   ]
  },
  {
   "cell_type": "markdown",
   "id": "c1b10a9c-ab82-4d0f-b442-1aa33d0b2787",
   "metadata": {},
   "source": [
    "- 'rb' and 'eb' modes"
   ]
  },
  {
   "cell_type": "code",
   "execution_count": 3,
   "id": "aa6fa86b-8533-498f-b5f1-8c439eb2bc9b",
   "metadata": {},
   "outputs": [],
   "source": [
    "with open('PHOTO-.jpg','rb') as file:\n",
    "    binary_data=file.read()\n",
    "    "
   ]
  },
  {
   "cell_type": "code",
   "execution_count": 15,
   "id": "5f47c45d-09ab-4eb9-b2be-9975ff0fc04c",
   "metadata": {},
   "outputs": [],
   "source": [
    "with open('PHOTO-.jpg','wb') as new_file:\n",
    "    new_file.write(binary_data)\n",
    "    \n",
    "    \n",
    "    \n"
   ]
  },
  {
   "cell_type": "markdown",
   "id": "ed5590c1-0d26-401b-8ec7-7b2dc74bb63d",
   "metadata": {},
   "source": [
    "- Python Libraries for AI"
   ]
  },
  {
   "cell_type": "code",
   "execution_count": 24,
   "id": "f1d07cb4-d454-48f9-941d-13e73a3f535a",
   "metadata": {},
   "outputs": [
    {
     "name": "stdout",
     "output_type": "stream",
     "text": [
      "    name  age      city\n",
      "0   john   28  new york\n",
      "1   anna   24     paris\n",
      "2  peter   35    berlin\n",
      "3  linda   40    london\n"
     ]
    }
   ],
   "source": [
    "import pandas as pd\n",
    "data={\"name\":['john','anna','peter','linda'],\n",
    "      \"age\":[28,24,35,40],\n",
    "      \"city\":['new york','paris','berlin','london']}\n",
    "df = pd.DataFrame(data)\n",
    "print(df)\n",
    "\n",
    "\n"
   ]
  },
  {
   "cell_type": "code",
   "execution_count": 26,
   "id": "f3691e18-e6c2-4397-b56f-53c71b1fee6f",
   "metadata": {},
   "outputs": [
    {
     "name": "stdout",
     "output_type": "stream",
     "text": [
      "40\n"
     ]
    }
   ],
   "source": [
    "Maxage = df[\"age\"].max()\n",
    "print(Maxage)"
   ]
  },
  {
   "cell_type": "code",
   "execution_count": 28,
   "id": "f725f499-8b55-42c7-ba51-f735aa0bccd3",
   "metadata": {},
   "outputs": [
    {
     "data": {
      "text/plain": [
       "24"
      ]
     },
     "execution_count": 28,
     "metadata": {},
     "output_type": "execute_result"
    }
   ],
   "source": [
    "Minage=df[\"age\"].min()\n",
    "Minage"
   ]
  },
  {
   "cell_type": "code",
   "execution_count": 65,
   "id": "f2fdb1ae-3108-4366-baad-f9d30825b7ab",
   "metadata": {},
   "outputs": [
    {
     "name": "stdout",
     "output_type": "stream",
     "text": [
      "      name        age\n",
      "0     john  28.000000\n",
      "1     anna  34.333333\n",
      "2    peter  35.000000\n",
      "3  unknown  40.000000\n"
     ]
    }
   ],
   "source": [
    "import pandas as pd\n",
    "df=pd.DataFrame ({'name':['john','anna','peter',None],\n",
    "                  'age':[28,None,35,40],})\n",
    "df.fillna({'name':'unknown','age':df['age'].mean()},inplace=True)\n",
    "print(df)\n",
    "                  "
   ]
  },
  {
   "cell_type": "code",
   "execution_count": 38,
   "id": "2a3692e6-f62a-4295-b0aa-914f5c611985",
   "metadata": {},
   "outputs": [
    {
     "name": "stdout",
     "output_type": "stream",
     "text": [
      "    name  Age  Salary\n",
      "2  peter   35   60000\n",
      "3  linda   40   70000\n",
      "Average Salary: 55000.0\n"
     ]
    }
   ],
   "source": [
    "import pandas as pd \n",
    "data={\"name\": ['john', 'anna', 'peter', 'linda'], \n",
    "      \"Age\": [28, 24, 35, 40],\n",
    "         \"Salary\": [40000, 50000, 60000, 70000] }\n",
    "df=pd.DataFrame(data) \n",
    "filtered_df= df[df[\"Age\"]> 30]\n",
    "print(filtered_df)\n",
    "average_salary = df[\"Salary\"].mean()\n",
    "print(f\"Average Salary: {average_salary}\")\n"
   ]
  },
  {
   "cell_type": "code",
   "execution_count": 62,
   "id": "b8fb6aab-d4d5-4aa8-8446-677e75177675",
   "metadata": {},
   "outputs": [
    {
     "name": "stdout",
     "output_type": "stream",
     "text": [
      "sum:15, Mean:3.0\n"
     ]
    }
   ],
   "source": [
    "import numpy as np\n",
    "arr=np.array([1,2,3,4,5])\n",
    "arr_sum= np.sum(arr)\n",
    "arr_mean = np.mean(arr)\n",
    "print(f\"sum:{arr_sum}, Mean:{arr_mean}\")"
   ]
  },
  {
   "cell_type": "code",
   "execution_count": 64,
   "id": "fcf98274-5126-47ca-af89-3e4ab01fefc5",
   "metadata": {},
   "outputs": [
    {
     "data": {
      "text/plain": [
       "(5,)"
      ]
     },
     "execution_count": 64,
     "metadata": {},
     "output_type": "execute_result"
    }
   ],
   "source": [
    "arr.shape"
   ]
  },
  {
   "cell_type": "code",
   "execution_count": 80,
   "id": "488dc0c7-4aee-4f15-88b6-10836424b6ff",
   "metadata": {},
   "outputs": [
    {
     "name": "stdout",
     "output_type": "stream",
     "text": [
      "[[ 1  4  9]\n",
      " [16 25 36]]\n"
     ]
    }
   ],
   "source": [
    "import numpy as np\n",
    "arr2= np.array([[1,2,3],[4,5,6]])\n",
    "result=arr2*arr2\n",
    "print(result)"
   ]
  },
  {
   "cell_type": "code",
   "execution_count": 82,
   "id": "b1f04d15-f24a-4af5-9628-173846d5e994",
   "metadata": {},
   "outputs": [
    {
     "data": {
      "text/plain": [
       "array([[0, 0, 0],\n",
       "       [0, 0, 0]])"
      ]
     },
     "execution_count": 82,
     "metadata": {},
     "output_type": "execute_result"
    }
   ],
   "source": [
    "arr2-arr2"
   ]
  },
  {
   "cell_type": "code",
   "execution_count": 84,
   "id": "a9db23ab-55e4-4214-9c71-938a985aeb34",
   "metadata": {},
   "outputs": [
    {
     "data": {
      "text/plain": [
       "6"
      ]
     },
     "execution_count": 84,
     "metadata": {},
     "output_type": "execute_result"
    }
   ],
   "source": [
    "maxx=np.max(arr2)\n",
    "maxx"
   ]
  },
  {
   "cell_type": "code",
   "execution_count": 86,
   "id": "e25fee44-762e-4048-8c54-3fc8e8025f64",
   "metadata": {},
   "outputs": [
    {
     "data": {
      "text/plain": [
       "1"
      ]
     },
     "execution_count": 86,
     "metadata": {},
     "output_type": "execute_result"
    }
   ],
   "source": [
    "minn=np.min(arr2)\n",
    "minn"
   ]
  },
  {
   "cell_type": "code",
   "execution_count": 1,
   "id": "86123344-b4c5-42a1-a66f-f25c358a5ba8",
   "metadata": {},
   "outputs": [
    {
     "data": {
      "image/png": "[encoded data removed]",
      "text/plain": [
       "<Figure size 640x480 with 1 Axes>"
      ]
     },
     "metadata": {},
     "output_type": "display_data"
    }
   ],
   "source": [
    "import matplotlib.pyplot as plt \n",
    "x = [1, 2, 3, 4, 5]\n",
    "y = [1, 4, 9, 16, 25]\n",
    "plt.plot(x, y) \n",
    "plt.title('Simple Line Plot')\n",
    "plt.xlabel('X-axis') \n",
    "plt.ylabel('Y-axis') \n",
    "plt.show()\n"
   ]
  },
  {
   "cell_type": "code",
   "execution_count": 48,
   "id": "37ded287-0b13-4ea9-9fdb-a8a2f9d15422",
   "metadata": {},
   "outputs": [
    {
     "name": "stdout",
     "output_type": "stream",
     "text": [
      "220000\n"
     ]
    }
   ],
   "source": [
    "total = df[\"Salary\"].sum()\n",
    "print(total)"
   ]
  },
  {
   "cell_type": "code",
   "execution_count": 50,
   "id": "e3bc2280-47d0-4fc9-b7e8-b1139c94e610",
   "metadata": {},
   "outputs": [
    {
     "data": {
      "text/html": [
       "<div>\n",
       "<style scoped>\n",
       "    .dataframe tbody tr th:only-of-type {\n",
       "        vertical-align: middle;\n",
       "    }\n",
       "\n",
       "    .dataframe tbody tr th {\n",
       "        vertical-align: top;\n",
       "    }\n",
       "\n",
       "    .dataframe thead th {\n",
       "        text-align: right;\n",
       "    }\n",
       "</style>\n",
       "<table border=\"1\" class=\"dataframe\">\n",
       "  <thead>\n",
       "    <tr style=\"text-align: right;\">\n",
       "      <th></th>\n",
       "      <th>name</th>\n",
       "      <th>Age</th>\n",
       "      <th>Salary</th>\n",
       "    </tr>\n",
       "  </thead>\n",
       "  <tbody>\n",
       "    <tr>\n",
       "      <th>0</th>\n",
       "      <td>john</td>\n",
       "      <td>28</td>\n",
       "      <td>40000</td>\n",
       "    </tr>\n",
       "    <tr>\n",
       "      <th>1</th>\n",
       "      <td>anna</td>\n",
       "      <td>24</td>\n",
       "      <td>50000</td>\n",
       "    </tr>\n",
       "  </tbody>\n",
       "</table>\n",
       "</div>"
      ],
      "text/plain": [
       "   name  Age  Salary\n",
       "0  john   28   40000\n",
       "1  anna   24   50000"
      ]
     },
     "execution_count": 50,
     "metadata": {},
     "output_type": "execute_result"
    }
   ],
   "source": [
    "filtered_df=df[df['Age'] <30]\n",
    "filtered_df"
   ]
  },
  {
   "cell_type": "code",
   "execution_count": 52,
   "id": "d4831de1-8e3d-4324-a687-41b565e45ec0",
   "metadata": {},
   "outputs": [
    {
     "data": {
      "text/plain": [
       "22500.0"
      ]
     },
     "execution_count": 52,
     "metadata": {},
     "output_type": "execute_result"
    }
   ],
   "source": [
    "x=filtered_df['Salary'].sum()/4\n",
    "x"
   ]
  },
  {
   "cell_type": "code",
   "execution_count": 58,
   "id": "da7bef46-60e4-4697-8c75-64fd2140f313",
   "metadata": {},
   "outputs": [
    {
     "data": {
      "text/html": [
       "<div>\n",
       "<style scoped>\n",
       "    .dataframe tbody tr th:only-of-type {\n",
       "        vertical-align: middle;\n",
       "    }\n",
       "\n",
       "    .dataframe tbody tr th {\n",
       "        vertical-align: top;\n",
       "    }\n",
       "\n",
       "    .dataframe thead th {\n",
       "        text-align: right;\n",
       "    }\n",
       "</style>\n",
       "<table border=\"1\" class=\"dataframe\">\n",
       "  <thead>\n",
       "    <tr style=\"text-align: right;\">\n",
       "      <th></th>\n",
       "      <th>name</th>\n",
       "      <th>Age</th>\n",
       "      <th>Salary</th>\n",
       "    </tr>\n",
       "  </thead>\n",
       "  <tbody>\n",
       "    <tr>\n",
       "      <th>0</th>\n",
       "      <td>john</td>\n",
       "      <td>28</td>\n",
       "      <td>40000</td>\n",
       "    </tr>\n",
       "  </tbody>\n",
       "</table>\n",
       "</div>"
      ],
      "text/plain": [
       "   name  Age  Salary\n",
       "0  john   28   40000"
      ]
     },
     "execution_count": 58,
     "metadata": {},
     "output_type": "execute_result"
    }
   ],
   "source": [
    "filtered_df=df[df['name']==\"john\"]\n",
    "filtered_df"
   ]
  },
  {
   "cell_type": "code",
   "execution_count": 1,
   "id": "c1022853-925d-424f-b7a9-9da762a788f8",
   "metadata": {},
   "outputs": [
    {
     "data": {
      "image/png": "[encoded data removed]",
      "text/plain": [
       "<Figure size 640x480 with 1 Axes>"
      ]
     },
     "metadata": {},
     "output_type": "display_data"
    }
   ],
   "source": [
    "import matplotlib.pyplot as plt\n",
    "students = ['John', 'Anna', 'Peter', 'Linda', 'Mike'] \n",
    "grades = [85, 92, 78, 88, 95]\n",
    "plt.bar(students, grades) \n",
    "plt.title('Student Grades')\n",
    "plt.xlabel('Students') \n",
    "plt.ylabel('Grades')\n",
    "plt.savefig('student_grades.png')\n",
    "plt.show()"
   ]
  },
  {
   "cell_type": "code",
   "execution_count": 7,
   "id": "c7396d73-fe36-490e-84a1-dd6792483f22",
   "metadata": {},
   "outputs": [
    {
     "name": "stdout",
     "output_type": "stream",
     "text": [
      "Requirement already satisfied: numpy in c:\\users\\waj12\\anaconda3\\lib\\site-packages (1.26.4)Note: you may need to restart the kernel to use updated packages.\n",
      "\n"
     ]
    }
   ],
   "source": [
    "pip install numpy"
   ]
  },
  {
   "cell_type": "code",
   "execution_count": 1,
   "id": "f97b95ef-ecb1-46ed-8ca1-41214f7b42af",
   "metadata": {},
   "outputs": [],
   "source": [
    "import numpy as np "
   ]
  },
  {
   "cell_type": "code",
   "execution_count": 3,
   "id": "40af5057-5f5f-463d-b3b0-0fe49e8b48e1",
   "metadata": {},
   "outputs": [],
   "source": [
    "arr= np.array([[1,2,3],[4,5,6]])"
   ]
  },
  {
   "cell_type": "code",
   "execution_count": 7,
   "id": "dd76161a-8164-4188-a599-1a9a6bc7eef4",
   "metadata": {},
   "outputs": [
    {
     "data": {
      "text/plain": [
       "array([[1, 2, 3],\n",
       "       [4, 5, 6]])"
      ]
     },
     "execution_count": 7,
     "metadata": {},
     "output_type": "execute_result"
    }
   ],
   "source": [
    "arr2= np.array([[1,2,3],[4,5,6]])\n",
    "arr2"
   ]
  },
  {
   "cell_type": "code",
   "execution_count": 9,
   "id": "9470406f-79ed-4785-b69c-158b2c698008",
   "metadata": {},
   "outputs": [
    {
     "data": {
      "text/plain": [
       "array([[ 1,  4,  9],\n",
       "       [16, 25, 36]])"
      ]
     },
     "execution_count": 9,
     "metadata": {},
     "output_type": "execute_result"
    }
   ],
   "source": [
    "arr*arr2"
   ]
  },
  {
   "cell_type": "code",
   "execution_count": 13,
   "id": "5575b82b-d857-4258-b458-df6ad3e29dbf",
   "metadata": {},
   "outputs": [
    {
     "data": {
      "text/plain": [
       "array([[0, 0, 0],\n",
       "       [0, 0, 0]])"
      ]
     },
     "execution_count": 13,
     "metadata": {},
     "output_type": "execute_result"
    }
   ],
   "source": [
    "arr-arr2"
   ]
  },
  {
   "cell_type": "code",
   "execution_count": 15,
   "id": "5de9a0d3-99dc-4aa5-ad49-977f212133a2",
   "metadata": {},
   "outputs": [],
   "source": [
    "max=np.max(arr2)"
   ]
  },
  {
   "cell_type": "code",
   "execution_count": 17,
   "id": "8b671e6a-19cc-4947-8827-d47f336d036f",
   "metadata": {},
   "outputs": [
    {
     "data": {
      "text/plain": [
       "6"
      ]
     },
     "execution_count": 17,
     "metadata": {},
     "output_type": "execute_result"
    }
   ],
   "source": [
    "max"
   ]
  },
  {
   "cell_type": "code",
   "execution_count": 11,
   "id": "3ab19f36-9dd4-4150-874a-933fb0ed48e8",
   "metadata": {},
   "outputs": [
    {
     "data": {
      "text/plain": [
       "1"
      ]
     },
     "execution_count": 11,
     "metadata": {},
     "output_type": "execute_result"
    }
   ],
   "source": [
    "min1=np.min(arr2)\n",
    "min1"
   ]
  },
  {
   "cell_type": "markdown",
   "id": "d74abdee-e5c4-42ed-9466-d92aa7365481",
   "metadata": {},
   "source": [
    "# Day 4"
   ]
  },
  {
   "cell_type": "markdown",
   "id": "748efb9e-4a32-4a2a-911f-f4c21f222ea7",
   "metadata": {},
   "source": [
    "- 1. File Handling:\n",
    "  • Used open(), read(), and write() for file operations.\n",
    " • Utilized with for safe file handling.\n",
    " - 2. Linear Regression:\n",
    " • Preprocessed data with pandas.\n",
    " • Split data using train_test_split.\n",
    " • Trained and predicted using LinearRegression() from sklearn."
   ]
  },
  {
   "cell_type": "code",
   "execution_count": 13,
   "id": "d27779e0-d221-409b-aeca-d7af0a0162c3",
   "metadata": {},
   "outputs": [
    {
     "name": "stdout",
     "output_type": "stream",
     "text": [
      "Accuracy: 100.00%\n",
      "Predicted spending for June: 27000.0\n"
     ]
    },
    {
     "name": "stderr",
     "output_type": "stream",
     "text": [
      "C:\\Users\\waj12\\anaconda3\\Lib\\site-packages\\sklearn\\base.py:493: UserWarning: X does not have valid feature names, but LinearRegression was fitted with feature names\n",
      "  warnings.warn(\n"
     ]
    }
   ],
   "source": [
    "import pandas as pd\n",
    "from sklearn.linear_model import LinearRegression \n",
    "from sklearn.model_selection import train_test_split\n",
    "from sklearn import metrics \n",
    "data = {'Month': ['Jan', 'Feb', 'Mar', 'Apr', 'May'], 'Spending': [12000, 15000, 18000, 21000, 24000]} \n",
    "df = pd.DataFrame(data)\n",
    "df['Month'] = pd.to_datetime(df['Month'], format='%b').dt.month\n",
    "X = df[['Month']]\n",
    "y = df['Spending'] \n",
    "X_train, X_test, y_train, y_test = train_test_split(X, y, test_size=0.3, random_state=42)\n",
    "model = LinearRegression() \n",
    "model.fit(X_train, y_train) \n",
    "y_pred = model.predict(X_test) \n",
    "accuracy = metrics.accuracy_score(y_test, y_pred) \n",
    "print(f\"Accuracy: {accuracy * 100:.2f}%\") \n",
    "prediction = model.predict([[6]])\n",
    "print(f\"Predicted spending for June: {prediction[0]}\")"
   ]
  }
 ],
 "metadata": {
  "kernelspec": {
   "display_name": "Python [conda env:base] *",
   "language": "python",
   "name": "conda-base-py"
  },
  "language_info": {
   "codemirror_mode": {
    "name": "ipython",
    "version": 3
   },
   "file_extension": ".py",
   "mimetype": "text/x-python",
   "name": "python",
   "nbconvert_exporter": "python",
   "pygments_lexer": "ipython3",
   "version": "3.12.7"
  }
 },
 "nbformat": 4,
 "nbformat_minor": 5
}
