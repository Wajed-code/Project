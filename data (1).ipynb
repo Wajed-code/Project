{
 "cells": [
  {
   "cell_type": "markdown",
   "id": "3ac38e0a-902a-4da6-9c2f-31cc6183b72a",
   "metadata": {},
   "source": [
    "### import pandas as pd\n",
    "df=pd.read_csv(r\"C:\\Users\\waj12\\Downloads\\1000_Companies.csv\")\n",
    "print(df.head())"
   ]
  },
  {
   "cell_type": "code",
   "execution_count": 67,
   "id": "5615ac8f-8539-4236-b1f9-5300793c25c1",
   "metadata": {},
   "outputs": [
    {
     "name": "stdout",
     "output_type": "stream",
     "text": [
      "R&D Spend          0\n",
      "Administration     0\n",
      "Marketing Spend    0\n",
      "State              0\n",
      "Profit             0\n",
      "dtype: int64\n"
     ]
    }
   ],
   "source": [
    "print(df.isnull().sum())"
   ]
  },
  {
   "cell_type": "code",
   "execution_count": 69,
   "id": "41a68e9c-644f-40bf-8e50-0a2656a8e664",
   "metadata": {},
   "outputs": [
    {
     "name": "stdout",
     "output_type": "stream",
     "text": [
      "duplicates: 2\n",
      "     R&D Spend  Administration  Marketing Spend       State       Profit\n",
      "335    84533.0     122941.3141      231885.6935  California  121248.7116\n",
      "755    84533.0     122941.3141      231885.6935  California  121248.7116\n"
     ]
    },
    {
     "data": {
      "image/png": "[encoded data removed]",
      "text/plain": [
       "<Figure size 800x600 with 1 Axes>"
      ]
     },
     "metadata": {},
     "output_type": "display_data"
    }
   ],
   "source": [
    "import matplotlib.pyplot as plt\n",
    "\n",
    "# التحقق من الصفوف المتكررة في الجدول بالكامل\n",
    "duplicate_rows = df.duplicated(keep=False)\n",
    "num_duplicates = duplicate_rows.sum()\n",
    "\n",
    "if num_duplicates > 0:\n",
    "    print(f\"duplicates: {num_duplicates}\")\n",
    "    print(df[duplicate_rows])\n",
    "else:\n",
    "    print(\"no duplicates.\")\n",
    "\n",
    "# حساب تكرار كل ولاية (State) في البيانات\n",
    "state_counts = df[\"State\"].value_counts()\n",
    "\n",
    "# إعداد الرسم البياني\n",
    "plt.figure(figsize=(8, 6), facecolor='#8F8F8F')\n",
    "colors = ['#6a0dad', '#9370db', '#ba55d3', '#dda0dd', '#e6e6fa']\n",
    "# رسم المخطط العمودي\n",
    "plt.bar(state_counts.index, state_counts.values, color=colors[:len(state_counts)])\n",
    "plt.xlabel(\"State\")\n",
    "plt.ylabel(\"Frequency\")\n",
    "plt.title(\"Frequency of States in Company Data\")\n",
    "plt.xticks(rotation=45)\n",
    "\n",
    "# عرض المخطط\n",
    "plt.show()"
   ]
  },
  {
   "cell_type": "code",
   "execution_count": 70,
   "id": "757e3b8c-82b5-48d9-b2a0-15a10aa08e49",
   "metadata": {},
   "outputs": [
    {
     "data": {
      "text/html": [
       "<div>\n",
       "<style scoped>\n",
       "    .dataframe tbody tr th:only-of-type {\n",
       "        vertical-align: middle;\n",
       "    }\n",
       "\n",
       "    .dataframe tbody tr th {\n",
       "        vertical-align: top;\n",
       "    }\n",
       "\n",
       "    .dataframe thead th {\n",
       "        text-align: right;\n",
       "    }\n",
       "</style>\n",
       "<table border=\"1\" class=\"dataframe\">\n",
       "  <thead>\n",
       "    <tr style=\"text-align: right;\">\n",
       "      <th></th>\n",
       "      <th>R&amp;D Spend</th>\n",
       "      <th>Administration</th>\n",
       "      <th>Marketing Spend</th>\n",
       "      <th>State</th>\n",
       "      <th>Profit</th>\n",
       "    </tr>\n",
       "  </thead>\n",
       "  <tbody>\n",
       "    <tr>\n",
       "      <th>0</th>\n",
       "      <td>165349.20</td>\n",
       "      <td>136897.800</td>\n",
       "      <td>471784.1000</td>\n",
       "      <td>New York</td>\n",
       "      <td>192261.83000</td>\n",
       "    </tr>\n",
       "    <tr>\n",
       "      <th>1</th>\n",
       "      <td>162597.70</td>\n",
       "      <td>151377.590</td>\n",
       "      <td>443898.5300</td>\n",
       "      <td>California</td>\n",
       "      <td>191792.06000</td>\n",
       "    </tr>\n",
       "    <tr>\n",
       "      <th>2</th>\n",
       "      <td>153441.51</td>\n",
       "      <td>101145.550</td>\n",
       "      <td>407934.5400</td>\n",
       "      <td>Florida</td>\n",
       "      <td>191050.39000</td>\n",
       "    </tr>\n",
       "    <tr>\n",
       "      <th>3</th>\n",
       "      <td>144372.41</td>\n",
       "      <td>118671.850</td>\n",
       "      <td>383199.6200</td>\n",
       "      <td>New York</td>\n",
       "      <td>182901.99000</td>\n",
       "    </tr>\n",
       "    <tr>\n",
       "      <th>4</th>\n",
       "      <td>142107.34</td>\n",
       "      <td>91391.770</td>\n",
       "      <td>366168.4200</td>\n",
       "      <td>Florida</td>\n",
       "      <td>166187.94000</td>\n",
       "    </tr>\n",
       "    <tr>\n",
       "      <th>...</th>\n",
       "      <td>...</td>\n",
       "      <td>...</td>\n",
       "      <td>...</td>\n",
       "      <td>...</td>\n",
       "      <td>...</td>\n",
       "    </tr>\n",
       "    <tr>\n",
       "      <th>995</th>\n",
       "      <td>54135.00</td>\n",
       "      <td>118451.999</td>\n",
       "      <td>173232.6695</td>\n",
       "      <td>California</td>\n",
       "      <td>95279.96251</td>\n",
       "    </tr>\n",
       "    <tr>\n",
       "      <th>996</th>\n",
       "      <td>134970.00</td>\n",
       "      <td>130390.080</td>\n",
       "      <td>329204.0228</td>\n",
       "      <td>California</td>\n",
       "      <td>164336.60550</td>\n",
       "    </tr>\n",
       "    <tr>\n",
       "      <th>997</th>\n",
       "      <td>100275.47</td>\n",
       "      <td>241926.310</td>\n",
       "      <td>227142.8200</td>\n",
       "      <td>California</td>\n",
       "      <td>413956.48000</td>\n",
       "    </tr>\n",
       "    <tr>\n",
       "      <th>998</th>\n",
       "      <td>128456.23</td>\n",
       "      <td>321652.140</td>\n",
       "      <td>281692.3200</td>\n",
       "      <td>California</td>\n",
       "      <td>333962.19000</td>\n",
       "    </tr>\n",
       "    <tr>\n",
       "      <th>999</th>\n",
       "      <td>161181.72</td>\n",
       "      <td>270939.860</td>\n",
       "      <td>295442.1700</td>\n",
       "      <td>New York</td>\n",
       "      <td>476485.43000</td>\n",
       "    </tr>\n",
       "  </tbody>\n",
       "</table>\n",
       "<p>999 rows × 5 columns</p>\n",
       "</div>"
      ],
      "text/plain": [
       "     R&D Spend  Administration  Marketing Spend       State        Profit\n",
       "0    165349.20      136897.800      471784.1000    New York  192261.83000\n",
       "1    162597.70      151377.590      443898.5300  California  191792.06000\n",
       "2    153441.51      101145.550      407934.5400     Florida  191050.39000\n",
       "3    144372.41      118671.850      383199.6200    New York  182901.99000\n",
       "4    142107.34       91391.770      366168.4200     Florida  166187.94000\n",
       "..         ...             ...              ...         ...           ...\n",
       "995   54135.00      118451.999      173232.6695  California   95279.96251\n",
       "996  134970.00      130390.080      329204.0228  California  164336.60550\n",
       "997  100275.47      241926.310      227142.8200  California  413956.48000\n",
       "998  128456.23      321652.140      281692.3200  California  333962.19000\n",
       "999  161181.72      270939.860      295442.1700    New York  476485.43000\n",
       "\n",
       "[999 rows x 5 columns]"
      ]
     },
     "execution_count": 70,
     "metadata": {},
     "output_type": "execute_result"
    }
   ],
   "source": [
    "df = df.drop_duplicates()\n",
    "df"
   ]
  },
  {
   "cell_type": "code",
   "execution_count": 1,
   "id": "b6d053a4-2835-419a-a3c0-2ae1c7a2505e",
   "metadata": {},
   "outputs": [
    {
     "name": "stdout",
     "output_type": "stream",
     "text": [
      "           R&D Spend  Administration  Marketing Spend         Profit\n",
      "count    1000.000000     1000.000000      1000.000000    1000.000000\n",
      "mean    81668.927200   122963.897612    226205.058419  119546.164656\n",
      "std     46537.567891    12613.927535     91578.393542   42888.633848\n",
      "min         0.000000    51283.140000         0.000000   14681.400000\n",
      "25%     43084.500000   116640.684850    150969.584600   85943.198543\n",
      "50%     79936.000000   122421.612150    224517.887350  117641.466300\n",
      "75%    124565.500000   129139.118000    308189.808525  155577.107425\n",
      "max    165349.200000   321652.140000    471784.100000  476485.430000\n"
     ]
    }
   ],
   "source": [
    "import pandas as pd\n",
    "\n",
    "# قراءة البيانات\n",
    "df = pd.read_csv(r\"C:\\Users\\waj12\\Downloads\\1000_Companies.csv\")\n",
    "\n",
    "# استخدام describe للحصول على الوصف الإحصائي\n",
    "description = df.describe()\n",
    "\n",
    "# طباعة الوصف الإحصائي\n",
    "print(description)"
   ]
  },
  {
   "cell_type": "code",
   "execution_count": 74,
   "id": "f1fd781d-bfad-43b0-b259-45146cdb1eb0",
   "metadata": {},
   "outputs": [
    {
     "name": "stdout",
     "output_type": "stream",
     "text": [
      "Model R² Score: 97.28%\n",
      "Predicted Profit: 161446.27\n"
     ]
    },
    {
     "name": "stderr",
     "output_type": "stream",
     "text": [
      "C:\\Users\\waj12\\anaconda3\\Lib\\site-packages\\sklearn\\base.py:493: UserWarning: X does not have valid feature names, but LinearRegression was fitted with feature names\n",
      "  warnings.warn(\n"
     ]
    }
   ],
   "source": [
    "import pandas as pd\n",
    "from sklearn.linear_model import LinearRegression\n",
    "from sklearn.model_selection import train_test_split\n",
    "from sklearn.preprocessing import OneHotEncoder\n",
    "from sklearn.metrics import mean_absolute_error, mean_squared_error, r2_score\n",
    "\n",
    "# تحويل العمود \"State\" إلى OneHotEncoding\n",
    "encoder = OneHotEncoder(drop='first', sparse_output=False, handle_unknown='ignore')\n",
    "state_encoded = encoder.fit_transform(df[['State']])\n",
    "state_df = pd.DataFrame(state_encoded, columns=encoder.get_feature_names_out(['State']))\n",
    "\n",
    "# التأكد من تطابق عدد الصفوف بين state_df وبيانات الميزات الأخرى\n",
    "state_df.index = df.index  # إعادة تعيين الفهرس ليطابق df\n",
    "\n",
    "# تجهيز البيانات\n",
    "X = pd.concat([df[[\"R&D Spend\", \"Administration\", \"Marketing Spend\"]], state_df], axis=1)  \n",
    "y = df[\"Profit\"]  \n",
    "\n",
    "# تقسيم البيانات\n",
    "X_train, X_test, y_train, y_test = train_test_split(X, y, test_size=0.3, random_state=42)\n",
    "\n",
    "# تدريب النموذج\n",
    "model = LinearRegression()\n",
    "model.fit(X_train, y_train)\n",
    "\n",
    "y_pred = model.predict(X_test)\n",
    "\n",
    "# تقييم النموذج\n",
    "r2 = r2_score(y_test, y_pred)\n",
    "print(f\"Model R² Score: {r2:.2%}\")\n",
    "\n",
    "# إجراء التنبؤ\n",
    "sample_input = [[150000, 120000, 300000] + list(state_df.iloc[0])]\n",
    "prediction = model.predict(sample_input)\n",
    "print(f\"Predicted Profit: {prediction[0]:.2f}\")"
   ]
  },
  {
   "cell_type": "code",
   "execution_count": null,
   "id": "b2ba2812-b410-4a72-9631-7be9df3ae32b",
   "metadata": {},
   "outputs": [],
   "source": []
  },
  {
   "cell_type": "code",
   "execution_count": null,
   "id": "8a37b5c4-f8e4-4b04-b7c4-adfd9c9487f2",
   "metadata": {},
   "outputs": [],
   "source": []
  }
 ],
 "metadata": {
  "kernelspec": {
   "display_name": "Python [conda env:base] *",
   "language": "python",
   "name": "conda-base-py"
  },
  "language_info": {
   "codemirror_mode": {
    "name": "ipython",
    "version": 3
   },
   "file_extension": ".py",
   "mimetype": "text/x-python",
   "name": "python",
   "nbconvert_exporter": "python",
   "pygments_lexer": "ipython3",
   "version": "3.12.7"
  }
 },
 "nbformat": 4,
 "nbformat_minor": 5
}
